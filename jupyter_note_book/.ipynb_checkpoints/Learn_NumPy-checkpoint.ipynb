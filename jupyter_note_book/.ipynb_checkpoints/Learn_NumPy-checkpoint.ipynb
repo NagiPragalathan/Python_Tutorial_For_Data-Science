{
 "cells": [
  {
   "cell_type": "markdown",
   "id": "132897df",
   "metadata": {},
   "source": [
    "# Numpy Module\n",
    "\n",
    "``` Channel Video : https://youtu.be/QEELEG99fV0 ```"
   ]
  },
  {
   "cell_type": "code",
   "execution_count": null,
   "id": "5c2e7d10",
   "metadata": {},
   "outputs": [],
   "source": [
    "# importing Numpy\n",
    "import numpy as np"
   ]
  },
  {
   "cell_type": "code",
   "execution_count": null,
   "id": "5bb51b69",
   "metadata": {},
   "outputs": [],
   "source": [
    "# Creating 0d Arraay - Scalar array\n",
    "\n",
    "# the array() parameter have only one number it mwans the array is scalar array else it will call 0th D array\n",
    "\n",
    "arr1 = np.array(5)\n",
    "arr1"
   ]
  },
  {
   "cell_type": "code",
   "execution_count": null,
   "id": "01e7b7f5",
   "metadata": {},
   "outputs": [],
   "source": [
    "# Creating 1 D array\n",
    "\n",
    "# if we pass the list() into the array() it will known as one D array\n",
    "\n",
    "a = np.array([1,2,3,4])\n",
    "a"
   ]
  },
  {
   "cell_type": "code",
   "execution_count": 14,
   "id": "8222601f",
   "metadata": {},
   "outputs": [
    {
     "data": {
      "text/plain": [
       "array([[1, 2, 3],\n",
       "       [1, 2, 3]])"
      ]
     },
     "execution_count": 14,
     "metadata": {},
     "output_type": "execute_result"
    }
   ],
   "source": [
    "# Creating 1 D array\n",
    "\n",
    "# if we pass the [[],[]] into the array() it will known as one D array\n",
    "\n",
    "b = np.array([[1,2,3],[1,2,3]],dtype=int) # if we use 2d or 3d array it will be order in 2d array [[1,2],[1,2]] in the following example the list contain 2 elements each list... hence we will use same length values in the all of list \n",
    "b\n",
    "\n",
    "# Dtype is use to Spcify the DataType of the all of the array in the NpArray"
   ]
  },
  {
   "cell_type": "code",
   "execution_count": 7,
   "id": "7d42272b",
   "metadata": {},
   "outputs": [
    {
     "data": {
      "text/plain": [
       "numpy.ndarray"
      ]
     },
     "execution_count": 7,
     "metadata": {},
     "output_type": "execute_result"
    }
   ],
   "source": [
    "type(a) # ndarraay \"nd\" means \"N\" Dymantinal Array  "
   ]
  },
  {
   "cell_type": "code",
   "execution_count": 16,
   "id": "88052df1",
   "metadata": {},
   "outputs": [
    {
     "data": {
      "text/plain": [
       "2"
      ]
     },
     "execution_count": 16,
     "metadata": {},
     "output_type": "execute_result"
    }
   ],
   "source": [
    "a.ndim # ndim is used to find the Dymantinal of the array\n",
    "b.ndim"
   ]
  },
  {
   "cell_type": "code",
   "execution_count": 18,
   "id": "53858737",
   "metadata": {},
   "outputs": [
    {
     "data": {
      "text/plain": [
       "array([[[1, 2, 3]],\n",
       "\n",
       "       [[1, 3, 3]],\n",
       "\n",
       "       [[1, 2, 3]]])"
      ]
     },
     "execution_count": 18,
     "metadata": {},
     "output_type": "execute_result"
    }
   ],
   "source": [
    "# 3DArray\n",
    "\n",
    "three = np.array([[[1,2,3]]\n",
    "                 ,[[1,3,3]]\n",
    "                 ,[[1,2,3]]])\n",
    "\n",
    "three\n"
   ]
  },
  {
   "cell_type": "code",
   "execution_count": 20,
   "id": "77ad7c0d",
   "metadata": {},
   "outputs": [
    {
     "data": {
      "text/plain": [
       "array([[[[[[1, 2, 3, 4]]]]]])"
      ]
     },
     "execution_count": 20,
     "metadata": {},
     "output_type": "execute_result"
    }
   ],
   "source": [
    "# Definind the Dimentsions\n",
    "\n",
    "x1 = np.array([1,2,3,4],ndmin=6)\n",
    "x1\n",
    "#\"ndmin\" are used to set the dimantinal of the array"
   ]
  },
  {
   "cell_type": "code",
   "execution_count": 21,
   "id": "a1e3aa49",
   "metadata": {},
   "outputs": [
    {
     "data": {
      "text/plain": [
       "array([[0., 0., 0.],\n",
       "       [0., 0., 0.]])"
      ]
     },
     "execution_count": 21,
     "metadata": {},
     "output_type": "execute_result"
    }
   ],
   "source": [
    "# Creating array of zero\n",
    "zeros = np.zeros((2,3))\n",
    "zeros\n",
    "\n",
    "# 2 mention the \"rows\" and three metions \"col\""
   ]
  },
  {
   "cell_type": "code",
   "execution_count": 22,
   "id": "a86f79e0",
   "metadata": {},
   "outputs": [
    {
     "data": {
      "text/plain": [
       "array([[1., 1., 1., 1.],\n",
       "       [1., 1., 1., 1.],\n",
       "       [1., 1., 1., 1.],\n",
       "       [1., 1., 1., 1.]])"
      ]
     },
     "execution_count": 22,
     "metadata": {},
     "output_type": "execute_result"
    }
   ],
   "source": [
    "# Creating array of onse\n",
    "x=np.ones((4,4))\n",
    "x\n",
    "\n",
    "# 4 mention the \"rows\" and 4 metions \"col\"\n"
   ]
  },
  {
   "cell_type": "code",
   "execution_count": 25,
   "id": "b9145f44",
   "metadata": {},
   "outputs": [
    {
     "data": {
      "text/plain": [
       "array([[1., 0., 0., 0.],\n",
       "       [0., 1., 0., 0.]])"
      ]
     },
     "execution_count": 25,
     "metadata": {},
     "output_type": "execute_result"
    }
   ],
   "source": [
    "# Eye Function : Returns array filled with zeros except in the kth diagonal, whose values are equal to 1\n",
    "\n",
    "# Eyedantity means diagonal position onse is called \"eye\"\n",
    "\n",
    "eye = np.eye(4)\n",
    "eye\n",
    "\n",
    "# the parameter mentions the N X N matrix 4 means 4X4 matrix\n",
    "\n",
    "# also we can create eye(row,col)\n",
    "x2 = np.eye(2,4)\n",
    "x2\n"
   ]
  },
  {
   "cell_type": "code",
   "execution_count": 26,
   "id": "0aae25b7",
   "metadata": {},
   "outputs": [
    {
     "data": {
      "text/plain": [
       "array([[0., 0., 0., 0.],\n",
       "       [1., 0., 0., 0.],\n",
       "       [0., 1., 0., 0.],\n",
       "       [0., 0., 1., 0.]])"
      ]
     },
     "execution_count": 26,
     "metadata": {},
     "output_type": "execute_result"
    }
   ],
   "source": [
    "a = np.eye(4,k=-1) # k means diagonal position\n",
    "a"
   ]
  },
  {
   "cell_type": "code",
   "execution_count": 27,
   "id": "49222a2e",
   "metadata": {},
   "outputs": [
    {
     "data": {
      "text/plain": [
       "array([[0., 0., 1., 0., 0.],\n",
       "       [0., 0., 0., 1., 0.],\n",
       "       [0., 0., 0., 0., 1.],\n",
       "       [0., 0., 0., 0., 0.],\n",
       "       [0., 0., 0., 0., 0.]])"
      ]
     },
     "execution_count": 27,
     "metadata": {},
     "output_type": "execute_result"
    }
   ],
   "source": [
    "a1 = np.eye(5,k=2) #  it's  control the position of diagonal\n",
    "a1"
   ]
  },
  {
   "cell_type": "markdown",
   "id": "d185aef6",
   "metadata": {},
   "source": [
    "# Assing Array Elements"
   ]
  },
  {
   "cell_type": "code",
   "execution_count": null,
   "id": "ecd317bb",
   "metadata": {},
   "outputs": [],
   "source": [
    "# Accessing 1d array\n",
    "\n",
    "b = np.array([1,2])\n"
   ]
  },
  {
   "cell_type": "code",
   "execution_count": 32,
   "id": "42098a46",
   "metadata": {},
   "outputs": [
    {
     "data": {
      "text/plain": [
       "3"
      ]
     },
     "execution_count": 32,
     "metadata": {},
     "output_type": "execute_result"
    }
   ],
   "source": [
    "# 3DArray\n",
    "\n",
    "three = np.array([[[1,2,3]]\n",
    "                 ,[[1,3,3]]\n",
    "                 ,[[1,2,3]]])\n",
    "\n",
    "three[0,0,2] # if we asscessing multi dim we can use \",\" seperated access"
   ]
  },
  {
   "cell_type": "markdown",
   "id": "8ab118c1",
   "metadata": {},
   "source": [
    "# Slicing Array"
   ]
  },
  {
   "cell_type": "code",
   "execution_count": 34,
   "id": "89321a31",
   "metadata": {},
   "outputs": [
    {
     "name": "stdout",
     "output_type": "stream",
     "text": [
      "[1 5 4]\n",
      "[ 4  3  7  6 54 89]\n",
      "[1 5 4 3]\n"
     ]
    }
   ],
   "source": [
    "a = np.array([1,5,4,3,7,6,54,89])\n",
    "print(a[0:3])\n",
    "print(a[2:])\n",
    "print(a[:4])"
   ]
  },
  {
   "cell_type": "code",
   "execution_count": 37,
   "id": "50a8f5ff",
   "metadata": {},
   "outputs": [
    {
     "name": "stdout",
     "output_type": "stream",
     "text": [
      "[[1 5 4 3]\n",
      " [1 5 4 3]]\n",
      "[[1 5 4]\n",
      " [1 5 4]]\n"
     ]
    }
   ],
   "source": [
    "# slicing 2d array\n",
    "a1 = np.array([[1,5,4,3,7,6,54,89],[1,5,4,3,7,6,54,89],[1,5,4,3,7,6,54,89]])\n",
    "\n",
    "print(a1[0:2,:4])\n",
    "print(a1[0:2,0:3])"
   ]
  },
  {
   "cell_type": "markdown",
   "id": "7dbe094d",
   "metadata": {},
   "source": [
    "# Numpy DataTypes"
   ]
  },
  {
   "cell_type": "markdown",
   "id": "a5f06ce6",
   "metadata": {},
   "source": [
    "- i - integer\n",
    "- b - boolean\n",
    "- u - unsigned integer\n",
    "- f - float\n",
    "- c - complex float\n",
    "- m - timedelta\n",
    "- M - datetime\n",
    "- O - object\n",
    "- S - string\n",
    "- U - unicode string\n",
    "- V - fixed chunk of memory for other type ( void )"
   ]
  },
  {
   "cell_type": "code",
   "execution_count": 42,
   "id": "4076a631",
   "metadata": {},
   "outputs": [
    {
     "name": "stdout",
     "output_type": "stream",
     "text": [
      "[1. 2. 3.]\n",
      "float32\n"
     ]
    }
   ],
   "source": [
    "# To Convert Data Types\n",
    "\n",
    "arr = np.array([1.1, 2.1, 3.1],dtype=int)\n",
    "\n",
    "newarr = arr.astype('f')\n",
    "\n",
    "print(newarr)\n",
    "print(newarr.dtype)"
   ]
  },
  {
   "cell_type": "code",
   "execution_count": 43,
   "id": "6e0f829b",
   "metadata": {},
   "outputs": [
    {
     "name": "stdout",
     "output_type": "stream",
     "text": [
      "[42  2  3  4  5]\n",
      "[1 2 3 4 5]\n"
     ]
    }
   ],
   "source": [
    "# Make a copy, change the original array, and display both arrays:\n",
    "arr = np.array([1, 2, 3, 4, 5])\n",
    "x = arr.copy()\n",
    "arr[0] = 42\n",
    "\n",
    "print(arr)\n",
    "print(x)"
   ]
  },
  {
   "cell_type": "code",
   "execution_count": 44,
   "id": "c2a7dc3d",
   "metadata": {},
   "outputs": [
    {
     "name": "stdout",
     "output_type": "stream",
     "text": [
      "[42  2  3  4  5]\n",
      "[42  2  3  4  5]\n"
     ]
    }
   ],
   "source": [
    "# Make a view, change the original array, and display both arrays:\n",
    "\n",
    "arr = np.array([1, 2, 3, 4, 5])\n",
    "x = arr.view()\n",
    "arr[0] = 42\n",
    "\n",
    "print(arr)\n",
    "print(x)\n"
   ]
  },
  {
   "cell_type": "markdown",
   "id": "5d8b881f",
   "metadata": {},
   "source": [
    "# Array Shape"
   ]
  },
  {
   "cell_type": "code",
   "execution_count": 45,
   "id": "ca3cab7d",
   "metadata": {},
   "outputs": [
    {
     "name": "stdout",
     "output_type": "stream",
     "text": [
      "(2, 4)\n"
     ]
    }
   ],
   "source": [
    "# NumPy arrays have an attribute called shape that returns a tuple with each index having the number of corresponding elements.\n",
    "\n",
    "arr = np.array([[1, 2, 3, 4], [5, 6, 7, 8]])\n",
    "\n",
    "print(arr.shape)"
   ]
  },
  {
   "cell_type": "code",
   "execution_count": 46,
   "id": "b4cd0808",
   "metadata": {},
   "outputs": [
    {
     "name": "stdout",
     "output_type": "stream",
     "text": [
      "[[[[[1 2 3 4]]]]]\n",
      "shape of array : (1, 1, 1, 1, 4)\n"
     ]
    }
   ],
   "source": [
    "\n",
    "arr = np.array([1, 2, 3, 4], ndmin=5)\n",
    "\n",
    "print(arr)\n",
    "print('shape of array :', arr.shape)"
   ]
  },
  {
   "cell_type": "code",
   "execution_count": 57,
   "id": "7dfba9bd",
   "metadata": {},
   "outputs": [
    {
     "name": "stdout",
     "output_type": "stream",
     "text": [
      "[[ 1  2]\n",
      " [ 3  4]\n",
      " [ 5  6]\n",
      " [ 7  8]\n",
      " [ 9 10]\n",
      " [11 12]]\n"
     ]
    }
   ],
   "source": [
    "# Reshaping means changing the shape of an array.\n",
    "\n",
    "# The shape of an array is the number of elements in each dimension.\n",
    "\n",
    "arr = np.array([1, 2, 3, 4, 5, 6, 7, 8, 9, 10, 11, 12])\n",
    "\n",
    "newarr = arr.reshape(6, 2)\n",
    "\n",
    "print(newarr)"
   ]
  },
  {
   "cell_type": "code",
   "execution_count": 58,
   "id": "369a0374",
   "metadata": {},
   "outputs": [
    {
     "name": "stdout",
     "output_type": "stream",
     "text": [
      "[[[ 1  2]\n",
      "  [ 3  4]\n",
      "  [ 5  6]]\n",
      "\n",
      " [[ 7  8]\n",
      "  [ 9 10]\n",
      "  [11 12]]]\n"
     ]
    }
   ],
   "source": [
    "# Convert the following 1-D array with 12 elements into a 3-D array.\n",
    "\n",
    "# The outermost dimension will have 2 arrays that contains 3 arrays, each with 2 elements:\n",
    "arr = np.array([1, 2, 3, 4, 5, 6, 7, 8, 9, 10, 11, 12])\n",
    "\n",
    "newarr = arr.reshape(2, 3, 2)\n",
    "\n",
    "print(newarr)"
   ]
  },
  {
   "cell_type": "code",
   "execution_count": 59,
   "id": "0a1efb9c",
   "metadata": {},
   "outputs": [
    {
     "name": "stdout",
     "output_type": "stream",
     "text": [
      "[1 2 3 4 5 6]\n"
     ]
    }
   ],
   "source": [
    "# Convert the array into a 1D array:\n",
    "\n",
    "arr = np.array([[1, 2, 3], [4, 5, 6]])\n",
    "\n",
    "newarr = arr.reshape(-1)\n",
    "\n",
    "print(newarr)"
   ]
  },
  {
   "cell_type": "markdown",
   "id": "24b48f50",
   "metadata": {},
   "source": [
    "# Iterating Arrays"
   ]
  },
  {
   "cell_type": "code",
   "execution_count": 60,
   "id": "1a82b5cc",
   "metadata": {},
   "outputs": [
    {
     "name": "stdout",
     "output_type": "stream",
     "text": [
      "1\n",
      "2\n",
      "3\n"
     ]
    }
   ],
   "source": [
    "arr = np.array([1, 2, 3])\n",
    "\n",
    "for x in arr:\n",
    "  print(x)"
   ]
  },
  {
   "cell_type": "code",
   "execution_count": 61,
   "id": "6a4513bf",
   "metadata": {},
   "outputs": [
    {
     "name": "stdout",
     "output_type": "stream",
     "text": [
      "[1 2 3]\n",
      "[4 5 6]\n"
     ]
    }
   ],
   "source": [
    "# Iterate on the elements of the following 2-D array:\n",
    "\n",
    "arr = np.array([[1, 2, 3], [4, 5, 6]])\n",
    "\n",
    "for x in arr:\n",
    "  print(x)"
   ]
  },
  {
   "cell_type": "code",
   "execution_count": 62,
   "id": "3b7e92f8",
   "metadata": {},
   "outputs": [
    {
     "name": "stdout",
     "output_type": "stream",
     "text": [
      "[[1 2 3]\n",
      " [4 5 6]]\n",
      "[[ 7  8  9]\n",
      " [10 11 12]]\n"
     ]
    }
   ],
   "source": [
    "# Iterate on the elements of the following 3-D array:\n",
    "arr = np.array([[[1, 2, 3], [4, 5, 6]], [[7, 8, 9], [10, 11, 12]]])\n",
    "\n",
    "for x in arr:\n",
    "  print(x)"
   ]
  },
  {
   "cell_type": "code",
   "execution_count": 63,
   "id": "cdc9e6e9",
   "metadata": {},
   "outputs": [
    {
     "name": "stdout",
     "output_type": "stream",
     "text": [
      "1\n",
      "2\n",
      "3\n",
      "4\n",
      "5\n",
      "6\n",
      "7\n",
      "8\n",
      "9\n",
      "10\n",
      "11\n",
      "12\n"
     ]
    }
   ],
   "source": [
    "# Iterate down to the scalars:\n",
    "arr = np.array([[[1, 2, 3], [4, 5, 6]], [[7, 8, 9], [10, 11, 12]]])\n",
    "\n",
    "for x in arr:\n",
    "  for y in x:\n",
    "    for z in y:\n",
    "      print(z)"
   ]
  }
 ],
 "metadata": {
  "kernelspec": {
   "display_name": "Python 3 (ipykernel)",
   "language": "python",
   "name": "python3"
  },
  "language_info": {
   "codemirror_mode": {
    "name": "ipython",
    "version": 3
   },
   "file_extension": ".py",
   "mimetype": "text/x-python",
   "name": "python",
   "nbconvert_exporter": "python",
   "pygments_lexer": "ipython3",
   "version": "3.11.3"
  }
 },
 "nbformat": 4,
 "nbformat_minor": 5
}
