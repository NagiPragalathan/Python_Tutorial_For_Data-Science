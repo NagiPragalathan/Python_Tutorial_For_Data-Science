{
 "cells": [
  {
   "cell_type": "code",
   "execution_count": null,
   "id": "5270489c",
   "metadata": {
    "scrolled": true
   },
   "outputs": [],
   "source": [
    "print(\"hello world\")\n",
    "\n",
    "# to run(Cell) the code we can use \"Ctrl + Enter\"\n",
    "# if we want to create new cell click the out side of cell and press \"B\" or Make Duble click outside of white space\n"
   ]
  },
  {
   "cell_type": "code",
   "execution_count": 5,
   "id": "37c5a611",
   "metadata": {},
   "outputs": [
    {
     "data": {
      "text/plain": [
       "4"
      ]
     },
     "execution_count": 5,
     "metadata": {},
     "output_type": "execute_result"
    }
   ],
   "source": [
    "2*2 # we can also run the code with out using print statement in jupyter note book "
   ]
  },
  {
   "cell_type": "markdown",
   "id": "d4174900",
   "metadata": {},
   "source": [
    "# Clear output:\n",
    " GoTo -> \"Cell\" on the Top of the jupiter Note Book -> and Goto \"All Output\" -> AND choose \"Clear\"\n",
    "We Can also run :-> \"Run all, Run Below, Run Above\"\n",
    "\n",
    "``` After edit the Code Enter => \"Ctrl\" And \"Enter\" It will Show As a MarkDown ```"
   ]
  },
  {
   "cell_type": "code",
   "execution_count": null,
   "id": "3c580c5f",
   "metadata": {},
   "outputs": [],
   "source": [
    "# Kernal\n",
    "\n",
    "while True:\n",
    "    print(\"Sample code for Kernal\")\n",
    "    \n",
    "# The Kernal Menu Taage re used to Makeing the \"Interupt\" in the infinity code run\n",
    "# restart and clare output are used to clear the output"
   ]
  },
  {
   "cell_type": "code",
   "execution_count": 10,
   "id": "a9a20426",
   "metadata": {},
   "outputs": [
    {
     "name": "stdout",
     "output_type": "stream",
     "text": [
      "Requirement already satisfied: numpy in c:\\users\\nagip\\appdata\\local\\programs\\python\\python311\\lib\\site-packages (1.23.5)\n",
      "Note: you may need to restart the kernel to use updated packages.\n"
     ]
    }
   ],
   "source": [
    "pip install numpy # we can import the librarys like that "
   ]
  },
  {
   "cell_type": "code",
   "execution_count": null,
   "id": "158b9605",
   "metadata": {},
   "outputs": [],
   "source": []
  }
 ],
 "metadata": {
  "kernelspec": {
   "display_name": "Python 3 (ipykernel)",
   "language": "python",
   "name": "python3"
  },
  "language_info": {
   "codemirror_mode": {
    "name": "ipython",
    "version": 3
   },
   "file_extension": ".py",
   "mimetype": "text/x-python",
   "name": "python",
   "nbconvert_exporter": "python",
   "pygments_lexer": "ipython3",
   "version": "3.11.3"
  }
 },
 "nbformat": 4,
 "nbformat_minor": 5
}
